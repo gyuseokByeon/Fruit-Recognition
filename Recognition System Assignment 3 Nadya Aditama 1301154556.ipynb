{
 "cells": [
  {
   "cell_type": "markdown",
   "metadata": {},
   "source": [
    "# Fruit Recognition"
   ]
  },
  {
   "cell_type": "markdown",
   "metadata": {},
   "source": [
    "### Import Package-package yang dibutuhkan"
   ]
  },
  {
   "cell_type": "markdown",
   "metadata": {},
   "source": [
    "Sebelum melakukan pengenalan, berikut ini adalah package-package yang harus di import terlebih dahulu"
   ]
  },
  {
   "cell_type": "code",
   "execution_count": 29,
   "metadata": {},
   "outputs": [],
   "source": [
    "import cv2\n",
    "import numpy as np\n",
    "import matplotlib.pyplot as plt\n",
    "import matplotlib\n",
    "import pandas as pd\n",
    "from skimage.color import rgb2gray\n",
    "from skimage.transform import rescale, resize, downscale_local_mean\n",
    "from skimage.feature import local_binary_pattern\n",
    "from sklearn.model_selection import train_test_split\n",
    "from skimage import data, color, feature\n",
    "from skimage.feature import hog\n",
    "\n",
    "import glob"
   ]
  },
  {
   "cell_type": "markdown",
   "metadata": {},
   "source": [
    "### Deskripsi Descriptor\n",
    "Descriptor yang digunakan ada dua, yaitu descriptor bentuk dan descriptor warna. Kedua descriptor tersebut adalah sebagai berikut"
   ]
  },
  {
   "cell_type": "markdown",
   "metadata": {},
   "source": [
    "1. HOG (Histogram of Oriented Gradient)"
   ]
  },
  {
   "cell_type": "code",
   "execution_count": 4,
   "metadata": {},
   "outputs": [],
   "source": [
    "def FtrExtractHOG(img):\n",
    "    #Preprocessing using grayscale and resize\n",
    "    #img=cv2.cvtColor(img, cv2.COLOR_BGR2GRAY)\n",
    "    #img=resize(img, (72, 72),anti_aliasing=True)\n",
    "    #Feature Extraction using HOG\n",
    "    ftr,_=hog(img, orientations=8, pixels_per_cell=(16, 16),\n",
    "            cells_per_block=(1, 1), visualize=True, multichannel=False)\n",
    "    return ftr"
   ]
  },
  {
   "cell_type": "markdown",
   "metadata": {},
   "source": [
    "2. Color Histogram"
   ]
  },
  {
   "cell_type": "code",
   "execution_count": 5,
   "metadata": {},
   "outputs": [],
   "source": [
    "def FtrExtractColorHist(img):\n",
    "    chans = cv2.split(img)\n",
    "    colors = (\"h\", \"s\", \"v\")\n",
    "    features = []\n",
    "\n",
    "    for (chan, color) in zip(chans, colors):\n",
    "        hist = cv2.calcHist([chan], [0], None, [256], [0, 256])\n",
    "        features.extend(hist)\n",
    "    return np.array(features).flatten()"
   ]
  },
  {
   "cell_type": "markdown",
   "metadata": {},
   "source": [
    "### Deskripsi Dataset"
   ]
  },
  {
   "cell_type": "markdown",
   "metadata": {},
   "source": [
    "Sebelum melakukan image recognition, kita akan melakukan load dataset. Dataset yang digunakan adalah dataset altenatif dari assignment 3, yaitu dataset buah-buahan. Dataset tersebut terdiri dari 7 kelas, yaitu apple, banana, lemon, lime, orange, pear, peach. Jumlah dataset tersebut diantaranya adalah sebagai berikut"
   ]
  },
  {
   "cell_type": "code",
   "execution_count": 6,
   "metadata": {
    "scrolled": true
   },
   "outputs": [
    {
     "data": {
      "text/html": [
       "<div>\n",
       "<style scoped>\n",
       "    .dataframe tbody tr th:only-of-type {\n",
       "        vertical-align: middle;\n",
       "    }\n",
       "\n",
       "    .dataframe tbody tr th {\n",
       "        vertical-align: top;\n",
       "    }\n",
       "\n",
       "    .dataframe thead th {\n",
       "        text-align: right;\n",
       "    }\n",
       "</style>\n",
       "<table border=\"1\" class=\"dataframe\">\n",
       "  <thead>\n",
       "    <tr style=\"text-align: right;\">\n",
       "      <th></th>\n",
       "      <th>Kelas</th>\n",
       "      <th>Jumlah</th>\n",
       "    </tr>\n",
       "  </thead>\n",
       "  <tbody>\n",
       "    <tr>\n",
       "      <th>0</th>\n",
       "      <td>Apple</td>\n",
       "      <td>3098</td>\n",
       "    </tr>\n",
       "    <tr>\n",
       "      <th>1</th>\n",
       "      <td>Banana</td>\n",
       "      <td>2826</td>\n",
       "    </tr>\n",
       "    <tr>\n",
       "      <th>2</th>\n",
       "      <td>Lemon</td>\n",
       "      <td>3747</td>\n",
       "    </tr>\n",
       "    <tr>\n",
       "      <th>3</th>\n",
       "      <td>Lime</td>\n",
       "      <td>2514</td>\n",
       "    </tr>\n",
       "    <tr>\n",
       "      <th>4</th>\n",
       "      <td>Orange</td>\n",
       "      <td>2834</td>\n",
       "    </tr>\n",
       "    <tr>\n",
       "      <th>5</th>\n",
       "      <td>Pear</td>\n",
       "      <td>2082</td>\n",
       "    </tr>\n",
       "    <tr>\n",
       "      <th>6</th>\n",
       "      <td>Peach</td>\n",
       "      <td>2026</td>\n",
       "    </tr>\n",
       "  </tbody>\n",
       "</table>\n",
       "</div>"
      ],
      "text/plain": [
       "    Kelas  Jumlah\n",
       "0   Apple    3098\n",
       "1  Banana    2826\n",
       "2   Lemon    3747\n",
       "3    Lime    2514\n",
       "4  Orange    2834\n",
       "5    Pear    2082\n",
       "6   Peach    2026"
      ]
     },
     "execution_count": 6,
     "metadata": {},
     "output_type": "execute_result"
    }
   ],
   "source": [
    "def loadimage(arr,n,name_of_fruit):\n",
    "    label=[]\n",
    "    for i in range(n):\n",
    "        strr = \"rgb/\"+name_of_fruit+\"_\"+str(i+1)+\"/*.png\"\n",
    "        #print(strr)\n",
    "        for file in glob.glob(strr):\n",
    "            img=np.asarray(plt.imread(file))\n",
    "            arr.append(img)\n",
    "            label.append(name_of_fruit)\n",
    "    return arr,label\n",
    "\n",
    "apple=[]\n",
    "banana =[]\n",
    "lemon=[]\n",
    "lime=[]\n",
    "orange=[]\n",
    "peach=[]\n",
    "pear=[]\n",
    "\n",
    "apple,label_apple=loadimage(apple,5,\"apple\")\n",
    "banana,label_banana=loadimage(banana,4,\"banana\")\n",
    "lemon,label_lemon=loadimage(lemon,6,\"lemon\")\n",
    "lime,label_lime=loadimage(lime,4,\"lime\")\n",
    "orange,label_orange=loadimage(orange,4,\"orange\")\n",
    "peach,label_peach=loadimage(peach,3,\"peach\")\n",
    "pear,label_pear=loadimage(pear,3,\"pear\")\n",
    "\n",
    "raw_atribut = {'Kelas': ['Apple','Banana','Lemon','Lime','Orange', 'Pear', 'Peach'],\n",
    "           'Jumlah': [np.shape(apple)[0],np.shape(banana)[0],np.shape(lemon)[0],np.shape(lime)[0],np.shape(orange)[0],np.shape(peach)[0],np.shape(pear)[0]]}\n",
    "atribut= pd.DataFrame(raw_atribut,\n",
    "                       columns=['Kelas','Jumlah'])\n",
    "atribut"
   ]
  },
  {
   "cell_type": "markdown",
   "metadata": {},
   "source": [
    "Total dari dataset tersebut adalah 19.127 gambar. Berikut ini adalah contoh gambar dari dataset tersebut."
   ]
  },
  {
   "cell_type": "code",
   "execution_count": 70,
   "metadata": {},
   "outputs": [
    {
     "name": "stdout",
     "output_type": "stream",
     "text": [
      "Contoh Dataset\n"
     ]
    },
    {
     "data": {
      "text/plain": [
       "<matplotlib.image.AxesImage at 0x1c4412bac8>"
      ]
     },
     "execution_count": 70,
     "metadata": {},
     "output_type": "execute_result"
    },
    {
     "data": {
      "image/png": "[encoded data removed]",
      "text/plain": [
       "<Figure size 432x288 with 7 Axes>"
      ]
     },
     "metadata": {},
     "output_type": "display_data"
    }
   ],
   "source": [
    "print('Contoh Dataset')\n",
    "fig = plt.figure()\n",
    "ax1 = fig.add_subplot(3,3,1)\n",
    "ax1.set_title('Apple')\n",
    "ax1.set_axis_off()\n",
    "ax1.imshow(apple[0])\n",
    "\n",
    "ax2 = fig.add_subplot(3,3,2)\n",
    "ax2.set_title('Banana')\n",
    "ax2.set_axis_off()\n",
    "ax2.imshow(banana[0])\n",
    "\n",
    "ax3 = fig.add_subplot(3,3,3)\n",
    "ax3.set_title('Lemon')\n",
    "ax3.set_axis_off()\n",
    "ax3.imshow(lemon[0])\n",
    "\n",
    "ax4 = fig.add_subplot(3,3,4)\n",
    "ax4.set_title('Lime')\n",
    "ax4.set_axis_off()\n",
    "ax4.imshow(lime[0])\n",
    "\n",
    "ax5 = fig.add_subplot(3,3,5)\n",
    "ax5.set_title('Orange')\n",
    "ax5.set_axis_off()\n",
    "ax5.imshow(orange[0])\n",
    "\n",
    "ax6 = fig.add_subplot(3,3,6)\n",
    "ax6.set_title('Pear')\n",
    "ax6.set_axis_off()\n",
    "ax6.imshow(pear[0])\n",
    "\n",
    "ax7 = fig.add_subplot(3,3,7)\n",
    "ax7.set_title('Peach')\n",
    "ax7.set_axis_off()\n",
    "ax7.imshow(peach[0])"
   ]
  },
  {
   "cell_type": "markdown",
   "metadata": {},
   "source": [
    "### Deskripsi Algoritma Machine Learning\n",
    "Algoritma machine learning yang digunakan pada sistem ini adalah algoritma k-NN (k-Nearest Neighbor)."
   ]
  },
  {
   "cell_type": "markdown",
   "metadata": {},
   "source": [
    "### Deskripsi Sistem yang Dibangun\n",
    "Berikut ini merupakan block diagram untuk sistem yang dibangun."
   ]
  },
  {
   "cell_type": "markdown",
   "metadata": {},
   "source": [
    "<img src='Block_Diagram_Sisrek.png' width=120px>"
   ]
  },
  {
   "cell_type": "markdown",
   "metadata": {},
   "source": [
    "Pertama-tama, lakukan input gambar terlebih dahulu. Kemudian lakukanlah preprocessing, yaitu memperbaiki gambar terlebih dahulu sebelum melakukan ekstraksi ciri. Kemudian melakukan ekstraksi ciri. Setelah melakukan ekstraksi ciri, selanjutnya adalah membagi dataset menjadi dua bagian, yaitu data training sebesar 67% dan data testing sebesar 33%. Namun, sebelum dilakukan split training dan testing, yang harus dilakukan adalah merandom terlebih dahulu urutan data tersebut agar proses learning menjadi lebih merata. Setelah itu lakukan klasifikasi pada data training. Setelah melakukan klasifikasi, lakukanlah pengujian dengan data testing."
   ]
  },
  {
   "cell_type": "markdown",
   "metadata": {},
   "source": [
    "### Implementasi\n",
    "Berikut ini adalah implementasi dari sistem tersebut. Skenario implementasi dari sistem tersebut akan dibagi 2, yaitu implementasi pada deskriptor bentuk bentuk dan implementasi pada deskriptor warna."
   ]
  },
  {
   "cell_type": "markdown",
   "metadata": {},
   "source": [
    "#### Deskriptor Bentuk\n",
    "Langkah pertama adalah melakukan preprocessing gambar. Preprocessing gambar yang dilakukan adalah melakukan grayscale dan resize, sehingga citra tersebut berukuran 72 x 72 dan bersifat keabuan."
   ]
  },
  {
   "cell_type": "code",
   "execution_count": 7,
   "metadata": {},
   "outputs": [],
   "source": [
    "def preprocessing1(arr):\n",
    "    arr_prep=[]\n",
    "    for i in range(np.shape(arr)[0]):\n",
    "        img=cv2.cvtColor(arr[i], cv2.COLOR_BGR2GRAY)\n",
    "        img=resize(img, (72, 72),anti_aliasing=True)\n",
    "        arr_prep.append(img)\n",
    "    return arr_prep"
   ]
  },
  {
   "cell_type": "markdown",
   "metadata": {},
   "source": [
    "Setelah itu langkah selanjutnya adalah melakukan ekstraksi ciri. Ekstraksi ciri yang dilakukan adalah HOG."
   ]
  },
  {
   "cell_type": "code",
   "execution_count": 8,
   "metadata": {},
   "outputs": [],
   "source": [
    "def featureExtraction1(arr):\n",
    "    arr_feature=[]\n",
    "    for i in range(np.shape(arr)[0]):\n",
    "        arr_feature.append(FtrExtractHOG(arr[i]))\n",
    "    return arr_feature"
   ]
  },
  {
   "cell_type": "markdown",
   "metadata": {},
   "source": [
    "Program utama dalam preprocessing dan ekstraksi ciri"
   ]
  },
  {
   "cell_type": "code",
   "execution_count": 9,
   "metadata": {},
   "outputs": [
    {
     "name": "stderr",
     "output_type": "stream",
     "text": [
      "/anaconda3/lib/python3.6/site-packages/skimage/transform/_warps.py:105: UserWarning: The default mode, 'constant', will be changed to 'reflect' in skimage 0.15.\n",
      "  warn(\"The default mode, 'constant', will be changed to 'reflect' in \"\n"
     ]
    }
   ],
   "source": [
    "#Preprocessing\n",
    "arr_prep1=preprocessing1(apple)\n",
    "arr_prep2=preprocessing1(banana)\n",
    "arr_prep3=preprocessing1(lemon)\n",
    "arr_prep4=preprocessing1(lime)\n",
    "arr_prep5=preprocessing1(orange)\n",
    "arr_prep6=preprocessing1(peach)\n",
    "arr_prep7=preprocessing1(pear)"
   ]
  },
  {
   "cell_type": "code",
   "execution_count": 10,
   "metadata": {},
   "outputs": [
    {
     "name": "stderr",
     "output_type": "stream",
     "text": [
      "/anaconda3/lib/python3.6/site-packages/skimage/feature/_hog.py:150: skimage_deprecation: Default value of `block_norm`==`L1` is deprecated and will be changed to `L2-Hys` in v0.15. To supress this message specify explicitly the normalization method.\n",
      "  skimage_deprecation)\n"
     ]
    }
   ],
   "source": [
    "#Feature Extraction\n",
    "arr_feature1=featureExtraction1(arr_prep1)\n",
    "arr_feature2=featureExtraction1(arr_prep2)\n",
    "arr_feature3=featureExtraction1(arr_prep3)\n",
    "arr_feature4=featureExtraction1(arr_prep4)\n",
    "arr_feature5=featureExtraction1(arr_prep5)\n",
    "arr_feature6=featureExtraction1(arr_prep6)\n",
    "arr_feature7=featureExtraction1(arr_prep7)"
   ]
  },
  {
   "cell_type": "markdown",
   "metadata": {},
   "source": [
    "Kemudian lakukan concat pada semua data dari masing-masing kelas, baik data gambar maupun label"
   ]
  },
  {
   "cell_type": "code",
   "execution_count": 11,
   "metadata": {},
   "outputs": [],
   "source": [
    "#Save DataTrain and the label\n",
    "X_Shapedes =np.concatenate((arr_feature1,arr_feature2,arr_feature3,arr_feature4,arr_feature5,arr_feature6,arr_feature7))\n",
    "y_Shapedes =np.concatenate((label_apple,label_banana,label_lemon,label_lime,label_orange,label_peach,label_pear))"
   ]
  },
  {
   "cell_type": "markdown",
   "metadata": {},
   "source": [
    "Setelah itu, lakukan split data train dan data test. Namun sebelum melakukan split data, data tersebut harus dirandom terlebih dahulu agar pembelajaran lebih merata."
   ]
  },
  {
   "cell_type": "code",
   "execution_count": 12,
   "metadata": {},
   "outputs": [],
   "source": [
    "X_train, X_test, y_train, y_test = train_test_split(X_Shapedes, y_Shapedes, test_size=0.33, random_state=42)"
   ]
  },
  {
   "cell_type": "markdown",
   "metadata": {},
   "source": [
    "Berikut ini adalah jumlah data training dan data testing yang akan digunakan untuk klasifikasi"
   ]
  },
  {
   "cell_type": "code",
   "execution_count": 13,
   "metadata": {},
   "outputs": [
    {
     "name": "stdout",
     "output_type": "stream",
     "text": [
      "Jumlah Data Training :  12815\n",
      "Jumlah Data Testing  :  6312\n"
     ]
    }
   ],
   "source": [
    "#jumlah data train dan data test\n",
    "print('Jumlah Data Training : ',X_train.shape[0])\n",
    "print('Jumlah Data Testing  : ',X_test.shape[0])"
   ]
  },
  {
   "cell_type": "markdown",
   "metadata": {},
   "source": [
    "Kemudian, lakukan klasifikasi k-NN"
   ]
  },
  {
   "cell_type": "code",
   "execution_count": 14,
   "metadata": {},
   "outputs": [
    {
     "data": {
      "text/plain": [
       "KNeighborsClassifier(algorithm='auto', leaf_size=30, metric='minkowski',\n",
       "           metric_params=None, n_jobs=-1, n_neighbors=11, p=2,\n",
       "           weights='distance')"
      ]
     },
     "execution_count": 14,
     "metadata": {},
     "output_type": "execute_result"
    }
   ],
   "source": [
    "from sklearn.neighbors import KNeighborsClassifier\n",
    "from sklearn.metrics import accuracy_score\n",
    "knn_clf = KNeighborsClassifier(n_jobs=-1, weights='distance', n_neighbors=11)\n",
    "knn_clf.fit(X_train, y_train)"
   ]
  },
  {
   "cell_type": "code",
   "execution_count": 15,
   "metadata": {},
   "outputs": [],
   "source": [
    "y_knn_pred = knn_clf.predict(X_test)"
   ]
  },
  {
   "cell_type": "markdown",
   "metadata": {},
   "source": [
    "Hitunglah akurasi pengujian tersebut"
   ]
  },
  {
   "cell_type": "code",
   "execution_count": 16,
   "metadata": {
    "scrolled": false
   },
   "outputs": [
    {
     "name": "stdout",
     "output_type": "stream",
     "text": [
      "99.95247148288973 %\n"
     ]
    }
   ],
   "source": [
    "print(accuracy_score(y_test, y_knn_pred)*100,'%')"
   ]
  },
  {
   "cell_type": "markdown",
   "metadata": {},
   "source": [
    "#### Deskriptor Warna\n",
    "Langkah pertama adalah melakukan preprocessing gambar. Preprocessing gambar yang dilakukan adalah mengubah gambar dari RGB menjadi HSV, agar mendapatkan hasil pengenalan yang baik."
   ]
  },
  {
   "cell_type": "code",
   "execution_count": 33,
   "metadata": {},
   "outputs": [],
   "source": [
    "def preprocessing2(arr):\n",
    "    arr_prep=[]\n",
    "    for i in range(np.shape(arr)[0]):\n",
    "        img=matplotlib.colors.rgb_to_hsv(arr[i])\n",
    "        arr_prep.append(img)\n",
    "    return arr_prep"
   ]
  },
  {
   "cell_type": "markdown",
   "metadata": {},
   "source": [
    "Setelah itu langkah selanjutnya adalah melakukan ekstraksi ciri. Ekstraksi ciri yang dilakukan adalah Color Histogram."
   ]
  },
  {
   "cell_type": "code",
   "execution_count": 34,
   "metadata": {},
   "outputs": [],
   "source": [
    "def featureExtraction2(arr):\n",
    "    arr_feature=[]\n",
    "    for i in range(np.shape(arr)[0]):\n",
    "        arr_feature.append(FtrExtractColorHist(arr[i]))\n",
    "    return arr_feature"
   ]
  },
  {
   "cell_type": "markdown",
   "metadata": {},
   "source": [
    "Program utama dalam preprocessing dan ekstraksi ciri"
   ]
  },
  {
   "cell_type": "code",
   "execution_count": 35,
   "metadata": {},
   "outputs": [],
   "source": [
    "#Preprocessing\n",
    "arr_prep1=preprocessing2(apple)\n",
    "arr_prep2=preprocessing2(banana)\n",
    "arr_prep3=preprocessing2(lemon)\n",
    "arr_prep4=preprocessing2(lime)\n",
    "arr_prep5=preprocessing2(orange)\n",
    "arr_prep6=preprocessing2(peach)\n",
    "arr_prep7=preprocessing2(pear)"
   ]
  },
  {
   "cell_type": "code",
   "execution_count": 36,
   "metadata": {},
   "outputs": [],
   "source": [
    "#Feature Extraction\n",
    "arr_feature1=featureExtraction2(arr_prep1)\n",
    "arr_feature2=featureExtraction2(arr_prep2)\n",
    "arr_feature3=featureExtraction2(arr_prep3)\n",
    "arr_feature4=featureExtraction2(arr_prep4)\n",
    "arr_feature5=featureExtraction2(arr_prep5)\n",
    "arr_feature6=featureExtraction2(arr_prep6)\n",
    "arr_feature7=featureExtraction2(arr_prep7)"
   ]
  },
  {
   "cell_type": "markdown",
   "metadata": {},
   "source": [
    "Kemudian lakukan concat pada semua data dari masing-masing kelas, baik data gambar maupun label"
   ]
  },
  {
   "cell_type": "code",
   "execution_count": 37,
   "metadata": {},
   "outputs": [],
   "source": [
    "#Save DataTrain and the label\n",
    "X_Colordes =np.concatenate((arr_feature1,arr_feature2,arr_feature3,arr_feature4,arr_feature5,arr_feature6,arr_feature7))\n",
    "y_Colordes =np.concatenate((label_apple,label_banana,label_lemon,label_lime,label_orange,label_peach,label_pear))"
   ]
  },
  {
   "cell_type": "markdown",
   "metadata": {},
   "source": [
    "Setelah itu, lakukan split data train dan data test. Namun sebelum melakukan split data, data tersebut harus dirandom terlebih dahulu agar pembelajaran lebih merata."
   ]
  },
  {
   "cell_type": "code",
   "execution_count": 38,
   "metadata": {},
   "outputs": [],
   "source": [
    "#classification\n",
    "X_train, X_test, y_train, y_test = train_test_split(X_Colordes, y_Colordes, test_size=0.33, random_state=42)"
   ]
  },
  {
   "cell_type": "markdown",
   "metadata": {},
   "source": [
    "Berikut ini adalah jumlah data training dan data testing yang akan digunakan untuk klasifikasi"
   ]
  },
  {
   "cell_type": "code",
   "execution_count": 39,
   "metadata": {},
   "outputs": [
    {
     "name": "stdout",
     "output_type": "stream",
     "text": [
      "Jumlah Data Training :  12815\n",
      "Jumlah Data Testing  :  6312\n"
     ]
    }
   ],
   "source": [
    "#jumlah data train dan data test\n",
    "print('Jumlah Data Training : ',X_train.shape[0])\n",
    "print('Jumlah Data Testing  : ',X_test.shape[0])"
   ]
  },
  {
   "cell_type": "markdown",
   "metadata": {},
   "source": [
    "Kemudian, lakukan klasifikasi k-NN"
   ]
  },
  {
   "cell_type": "code",
   "execution_count": 40,
   "metadata": {},
   "outputs": [
    {
     "data": {
      "text/plain": [
       "KNeighborsClassifier(algorithm='auto', leaf_size=30, metric='minkowski',\n",
       "           metric_params=None, n_jobs=-1, n_neighbors=11, p=2,\n",
       "           weights='distance')"
      ]
     },
     "execution_count": 40,
     "metadata": {},
     "output_type": "execute_result"
    }
   ],
   "source": [
    "from sklearn.neighbors import KNeighborsClassifier\n",
    "from sklearn.metrics import accuracy_score\n",
    "knn_clf = KNeighborsClassifier(n_jobs=-1, weights='distance', n_neighbors=11)\n",
    "knn_clf.fit(X_train, y_train)"
   ]
  },
  {
   "cell_type": "code",
   "execution_count": 41,
   "metadata": {},
   "outputs": [],
   "source": [
    "y_knn_pred = knn_clf.predict(X_test)"
   ]
  },
  {
   "cell_type": "markdown",
   "metadata": {},
   "source": [
    "Hitunglah akurasi pengujian tersebut"
   ]
  },
  {
   "cell_type": "code",
   "execution_count": 42,
   "metadata": {
    "scrolled": false
   },
   "outputs": [
    {
     "name": "stdout",
     "output_type": "stream",
     "text": [
      "89.78136882129277 %\n"
     ]
    }
   ],
   "source": [
    "print(accuracy_score(y_test, y_knn_pred)*100,'%')"
   ]
  },
  {
   "cell_type": "markdown",
   "metadata": {},
   "source": [
    "### Analisis Akurasi\n",
    "Setelah dilakukan implementasi diatas, pengenalan buah berdasarkan deskriptor bentuk memiliki akurasi sebesar 99.9%. Sedangkan pengenalan buah berdasarkan deskriptor warna memiliki akurasi sebesar 89.7%. Berdasarkan hasil akurasi tersebut, dapat disimpulkan bahwa pengenalan buah dengan deskriptor bentuk lebih baik daripada pengenalan buah berdasarkan deskriptor warna karena pada deskriptor warna, ada beberapa warna buah yang mirip seperti pada apel dan peach."
   ]
  },
  {
   "cell_type": "markdown",
   "metadata": {},
   "source": [
    "Nadya Aditama\n",
    "1301154556\n",
    "ICM 39 GAB"
   ]
  }
 ],
 "metadata": {
  "kernelspec": {
   "display_name": "Python 3",
   "language": "python",
   "name": "python3"
  },
  "language_info": {
   "codemirror_mode": {
    "name": "ipython",
    "version": 3
   },
   "file_extension": ".py",
   "mimetype": "text/x-python",
   "name": "python",
   "nbconvert_exporter": "python",
   "pygments_lexer": "ipython3",
   "version": "3.6.5"
  }
 },
 "nbformat": 4,
 "nbformat_minor": 2
}
